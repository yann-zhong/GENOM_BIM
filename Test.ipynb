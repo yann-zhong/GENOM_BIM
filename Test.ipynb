{
 "cells": [
  {
   "cell_type": "code",
   "execution_count": 82,
   "metadata": {},
   "outputs": [],
   "source": [
    "import pandas as pd\n",
    "import numpy as np\n",
    "from math import *"
   ]
  },
  {
   "cell_type": "code",
   "execution_count": 160,
   "metadata": {},
   "outputs": [],
   "source": [
    "def step1(seq):\n",
    "    dict_symbols = {\n",
    "        'P':'★',\n",
    "        'G':'⯁',\n",
    "        'T':'☐',\n",
    "        'S':'▣'\n",
    "    }\n",
    "    output = ''\n",
    "    for i in range(len(seq)):\n",
    "        if seq[i] in dict_symbols:\n",
    "            output += dict_symbols[seq[i]]\n",
    "        else:\n",
    "            output += seq[i]\n",
    "    return output\n",
    "\n",
    "def step2(seq):\n",
    "    # list of contiguous strong hydrophobic amino acids\n",
    "    list_aa = ['V', 'I', 'L', 'F', 'M', 'Y', 'W']\n",
    "    output = ''\n",
    "    for i in range(len(seq)):\n",
    "        if seq[i] in list_aa:\n",
    "            output += '1'\n",
    "        else:\n",
    "            output += '0'\n",
    "    return output\n",
    "\n",
    "def step3(seq):\n",
    "    boundaries = set()\n",
    "    for i in range(len(seq)-3):\n",
    "        if seq[i:i+4]=='0000':\n",
    "            for j in range(4):\n",
    "                boundaries.add(i+j)\n",
    "    return boundaries\n",
    "\n",
    "def step4(seq, boundaries):\n",
    "    n = len(seq)\n",
    "    double_helix = np.empty((8, ceil(n/4)+1), dtype = \"object\")\n",
    "    for i in range(n):\n",
    "        if i not in boundaries:\n",
    "            line = i%4\n",
    "            column = int(i/4)\n",
    "            double_helix[line, 1+column] = seq[i]\n",
    "            double_helix[line+4, column] = seq[i]\n",
    "    double_helix[double_helix==None] = '-'\n",
    "    return double_helix\n",
    "\n",
    "def step5(seq, boundaries):\n",
    "    structs = []\n",
    "    struct = ''\n",
    "    for i in range(len(seq)):\n",
    "        if i not in boundaries:\n",
    "            struct += seq[i]\n",
    "        elif struct!='':\n",
    "            structs.append(struct)\n",
    "            struct = ''\n",
    "    return structs\n",
    "\n",
    "def binary_coding(seq):\n",
    "    # remove \".\"\n",
    "    seq = seq.replace('.', '')\n",
    "    # transform into another form with special symbols denoting amino acids with particular structural behaviours\n",
    "    seq1 = step1(seq)\n",
    "    # transform into binary sequence\n",
    "    seq2 = step2(seq)\n",
    "    # find boundaries where there are not particular structure (helix or sheet)\n",
    "    boundaries = step3(seq2)\n",
    "    # vizualize horizontal clusters\n",
    "    mat = step4(seq1, boundaries)\n",
    "    # get potential structures\n",
    "    structs = step5(seq1, boundaries)\n",
    "    \n",
    "    return seq1, seq2, boundaries, mat, structs"
   ]
  },
  {
   "cell_type": "code",
   "execution_count": 161,
   "metadata": {},
   "outputs": [],
   "source": [
    "seq1, seq2, boundaries, mat, structs = binary_coding(\"AIQTSDEH...KV..ATPANW....RP..................GDK.V.VVP.PP.NTQE.MA..EERMKEG\")"
   ]
  },
  {
   "cell_type": "code",
   "execution_count": 162,
   "metadata": {},
   "outputs": [
    {
     "name": "stdout",
     "output_type": "stream",
     "text": [
      "['-' 'A' '-' '-' '-' '-' '-' '-' '-' '-' 'M']\n",
      "['-' 'I' '-' 'V' '-' '-' 'V' '-' '-' '-' 'K']\n",
      "['-' '-' '-' '-' '-' '-' 'V' '-' '-' '-' 'E']\n",
      "['-' '-' '-' '-' 'W' '-' 'V' '-' 'M' '-' '⯁']\n",
      "['A' '-' '-' '-' '-' '-' '-' '-' '-' 'M' '-']\n",
      "['I' '-' 'V' '-' '-' 'V' '-' '-' '-' 'K' '-']\n",
      "['-' '-' '-' '-' '-' 'V' '-' '-' '-' 'E' '-']\n",
      "['-' '-' '-' 'W' '-' 'V' '-' 'M' '-' '⯁' '-']\n"
     ]
    }
   ],
   "source": [
    "for line in mat:\n",
    "    print(str(line))"
   ]
  },
  {
   "cell_type": "code",
   "execution_count": 143,
   "metadata": {},
   "outputs": [
    {
     "data": {
      "text/plain": [
       "'0100000001000001000001110000000100001000'"
      ]
     },
     "execution_count": 143,
     "metadata": {},
     "output_type": "execute_result"
    }
   ],
   "source": [
    "seq2"
   ]
  },
  {
   "cell_type": "code",
   "execution_count": 163,
   "metadata": {},
   "outputs": [
    {
     "data": {
      "text/plain": [
       "['AI', 'V', 'W', 'VVV', 'M']"
      ]
     },
     "execution_count": 163,
     "metadata": {},
     "output_type": "execute_result"
    }
   ],
   "source": [
    "structs"
   ]
  },
  {
   "cell_type": "code",
   "execution_count": null,
   "metadata": {},
   "outputs": [],
   "source": []
  }
 ],
 "metadata": {
  "kernelspec": {
   "display_name": "Python 3",
   "language": "python",
   "name": "python3"
  },
  "language_info": {
   "codemirror_mode": {
    "name": "ipython",
    "version": 3
   },
   "file_extension": ".py",
   "mimetype": "text/x-python",
   "name": "python",
   "nbconvert_exporter": "python",
   "pygments_lexer": "ipython3",
   "version": "3.8.5"
  }
 },
 "nbformat": 4,
 "nbformat_minor": 4
}
