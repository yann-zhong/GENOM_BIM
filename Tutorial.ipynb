{
 "cells": [
  {
   "cell_type": "code",
   "execution_count": 1,
   "metadata": {},
   "outputs": [],
   "source": [
    "from time import time\n",
    "import os\n",
    "from src.find_HC import *\n",
    "from src.count_matrix_construction import *\n",
    "from src.substitution_matrix_construction import *"
   ]
  },
  {
   "cell_type": "code",
   "execution_count": 2,
   "metadata": {},
   "outputs": [],
   "source": [
    "part_of_data = os.path.join('data', 'Test', 'part_of_data.txt')\n",
    "soluble_domains = os.path.join('data', 'soluble_domains_pfam_accession.txt')\n",
    "HC_counts = os.path.join('data', 'Test', 'HC_counts_test.json')\n",
    "count_matrix = os.path.join('matrices', 'Test', 'count_matrix_test.txt')\n",
    "substitution_matrix = os.path.join('matrices', 'Test', 'susbstitution_matrix_test.txt')"
   ]
  },
  {
   "cell_type": "markdown",
   "metadata": {},
   "source": [
    "# Find HC counts"
   ]
  },
  {
   "cell_type": "code",
   "execution_count": 3,
   "metadata": {},
   "outputs": [
    {
     "name": "stdout",
     "output_type": "stream",
     "text": [
      "Preprocessing...\n",
      "done\n",
      "Searching HCs...\n",
      "done\n",
      "Filtring...\n",
      "done\n",
      "time : 0.7920663356781006\n"
     ]
    }
   ],
   "source": [
    "start = time()\n",
    "get_analyse(part_of_data, soluble_domains, HC_counts)\n",
    "end = time()\n",
    "print('time :', end-start)"
   ]
  },
  {
   "cell_type": "markdown",
   "metadata": {},
   "source": [
    "# Get count matrix"
   ]
  },
  {
   "cell_type": "code",
   "execution_count": 4,
   "metadata": {},
   "outputs": [
    {
     "name": "stdout",
     "output_type": "stream",
     "text": [
      "Preprocessing...\n",
      "done\n",
      "Construction ...\n",
      "1 / 2\n",
      "1993 x 74\n",
      "2 / 2\n",
      "1603 x 588\n",
      "done\n",
      "time : 1.0760741233825684\n"
     ]
    }
   ],
   "source": [
    "start = time()\n",
    "nb_conserved_regions = get_count_matrix(part_of_data, soluble_domains, HC_counts, 0.8, count_matrix, pseudo_count=True)\n",
    "end = time()\n",
    "print('time :', end-start)"
   ]
  },
  {
   "cell_type": "markdown",
   "metadata": {},
   "source": [
    "# Get substitution matrix"
   ]
  },
  {
   "cell_type": "code",
   "execution_count": 5,
   "metadata": {},
   "outputs": [
    {
     "name": "stdout",
     "output_type": "stream",
     "text": [
      "time : 0.9066727161407471\n"
     ]
    }
   ],
   "source": [
    "start = time()\n",
    "MC(HC_counts, count_matrix, substitution_matrix)\n",
    "end = time()\n",
    "print('time :', end-start)"
   ]
  }
 ],
 "metadata": {
  "kernelspec": {
   "display_name": "Python 3",
   "language": "python",
   "name": "python3"
  },
  "language_info": {
   "codemirror_mode": {
    "name": "ipython",
    "version": 3
   },
   "file_extension": ".py",
   "mimetype": "text/x-python",
   "name": "python",
   "nbconvert_exporter": "python",
   "pygments_lexer": "ipython3",
   "version": "3.8.5"
  }
 },
 "nbformat": 4,
 "nbformat_minor": 4
}
