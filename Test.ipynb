{
 "cells": [
  {
   "cell_type": "code",
   "execution_count": 82,
   "metadata": {},
   "outputs": [],
   "source": [
    "import pandas as pd\n",
    "import numpy as np\n",
    "from math import *"
   ]
  },
  {
   "cell_type": "code",
   "execution_count": 2,
   "metadata": {},
   "outputs": [
    {
     "data": {
      "text/html": [
       "<div>\n",
       "<style scoped>\n",
       "    .dataframe tbody tr th:only-of-type {\n",
       "        vertical-align: middle;\n",
       "    }\n",
       "\n",
       "    .dataframe tbody tr th {\n",
       "        vertical-align: top;\n",
       "    }\n",
       "\n",
       "    .dataframe thead th {\n",
       "        text-align: right;\n",
       "    }\n",
       "</style>\n",
       "<table border=\"1\" class=\"dataframe\">\n",
       "  <thead>\n",
       "    <tr style=\"text-align: right;\">\n",
       "      <th></th>\n",
       "      <th>#Peitsch</th>\n",
       "      <th>Effectif</th>\n",
       "      <th>affinity</th>\n",
       "    </tr>\n",
       "  </thead>\n",
       "  <tbody>\n",
       "    <tr>\n",
       "      <th>0</th>\n",
       "      <td>101</td>\n",
       "      <td>926</td>\n",
       "      <td>e</td>\n",
       "    </tr>\n",
       "    <tr>\n",
       "      <th>1</th>\n",
       "      <td>103</td>\n",
       "      <td>365</td>\n",
       "      <td>e</td>\n",
       "    </tr>\n",
       "    <tr>\n",
       "      <th>2</th>\n",
       "      <td>105</td>\n",
       "      <td>816</td>\n",
       "      <td>E</td>\n",
       "    </tr>\n",
       "    <tr>\n",
       "      <th>3</th>\n",
       "      <td>107</td>\n",
       "      <td>414</td>\n",
       "      <td>E</td>\n",
       "    </tr>\n",
       "    <tr>\n",
       "      <th>4</th>\n",
       "      <td>109</td>\n",
       "      <td>368</td>\n",
       "      <td>e</td>\n",
       "    </tr>\n",
       "    <tr>\n",
       "      <th>...</th>\n",
       "      <td>...</td>\n",
       "      <td>...</td>\n",
       "      <td>...</td>\n",
       "    </tr>\n",
       "    <tr>\n",
       "      <th>471</th>\n",
       "      <td>965</td>\n",
       "      <td>78</td>\n",
       "      <td>e</td>\n",
       "    </tr>\n",
       "    <tr>\n",
       "      <th>472</th>\n",
       "      <td>969</td>\n",
       "      <td>77</td>\n",
       "      <td>e</td>\n",
       "    </tr>\n",
       "    <tr>\n",
       "      <th>473</th>\n",
       "      <td>973</td>\n",
       "      <td>31</td>\n",
       "      <td>E</td>\n",
       "    </tr>\n",
       "    <tr>\n",
       "      <th>474</th>\n",
       "      <td>977</td>\n",
       "      <td>41</td>\n",
       "      <td>E</td>\n",
       "    </tr>\n",
       "    <tr>\n",
       "      <th>475</th>\n",
       "      <td>99</td>\n",
       "      <td>645</td>\n",
       "      <td>e</td>\n",
       "    </tr>\n",
       "  </tbody>\n",
       "</table>\n",
       "<p>476 rows × 3 columns</p>\n",
       "</div>"
      ],
      "text/plain": [
       "     #Peitsch  Effectif affinity\n",
       "0         101       926        e\n",
       "1         103       365        e\n",
       "2         105       816        E\n",
       "3         107       414        E\n",
       "4         109       368        e\n",
       "..        ...       ...      ...\n",
       "471       965        78        e\n",
       "472       969        77        e\n",
       "473       973        31        E\n",
       "474       977        41        E\n",
       "475        99       645        e\n",
       "\n",
       "[476 rows x 3 columns]"
      ]
     },
     "execution_count": 2,
     "metadata": {},
     "output_type": "execute_result"
    }
   ],
   "source": [
    "df = pd.read_csv('HCDB_HC-counts_secondary-struct.csv')\n",
    "df"
   ]
  },
  {
   "cell_type": "code",
   "execution_count": 160,
   "metadata": {},
   "outputs": [],
   "source": [
    "def step1(seq):\n",
    "    dict_symbols = {\n",
    "        'P':'★',\n",
    "        'G':'⯁',\n",
    "        'T':'☐',\n",
    "        'S':'▣'\n",
    "    }\n",
    "    output = ''\n",
    "    for i in range(len(seq)):\n",
    "        if seq[i] in dict_symbols:\n",
    "            output += dict_symbols[seq[i]]\n",
    "        else:\n",
    "            output += seq[i]\n",
    "    return output\n",
    "\n",
    "def step2(seq):\n",
    "    # list of contiguous strong hydrophobic amino acids\n",
    "    list_aa = ['V', 'I', 'L', 'F', 'M', 'Y', 'W']\n",
    "    output = ''\n",
    "    for i in range(len(seq)):\n",
    "        if seq[i] in list_aa:\n",
    "            output += '1'\n",
    "        else:\n",
    "            output += '0'\n",
    "    return output\n",
    "\n",
    "def step3(seq):\n",
    "    boundaries = set()\n",
    "    for i in range(len(seq)-3):\n",
    "        if seq[i:i+4]=='0000':\n",
    "            for j in range(4):\n",
    "                boundaries.add(i+j)\n",
    "    return boundaries\n",
    "\n",
    "def step4(seq, boundaries):\n",
    "    n = len(seq)\n",
    "    double_helix = np.empty((8, ceil(n/4)+1), dtype = \"object\")\n",
    "    for i in range(n):\n",
    "        if i not in boundaries:\n",
    "            line = i%4\n",
    "            column = int(i/4)\n",
    "            double_helix[line, 1+column] = seq[i]\n",
    "            double_helix[line+4, column] = seq[i]\n",
    "    double_helix[double_helix==None] = '-'\n",
    "    return double_helix\n",
    "\n",
    "def step5(seq, boundaries):\n",
    "    structs = []\n",
    "    struct = ''\n",
    "    for i in range(len(seq)):\n",
    "        if i not in boundaries:\n",
    "            struct += seq[i]\n",
    "        elif struct!='':\n",
    "            structs.append(struct)\n",
    "            struct = ''\n",
    "    return structs\n",
    "\n",
    "def binary_coding(seq):\n",
    "    # remove \".\"\n",
    "    seq = seq.replace('.', '')\n",
    "    # transform into another form with special symbols denoting amino acids with particular structural behaviours\n",
    "    seq1 = step1(seq)\n",
    "    # transform into binary sequence\n",
    "    seq2 = step2(seq)\n",
    "    # find boundaries where there are not particular structure (helix or sheet)\n",
    "    boundaries = step3(seq2)\n",
    "    # vizualize horizontal clusters\n",
    "    mat = step4(seq1, boundaries)\n",
    "    # get potential structures\n",
    "    structs = step5(seq1, boundaries)\n",
    "    \n",
    "    return seq1, seq2, boundaries, mat, structs"
   ]
  },
  {
   "cell_type": "code",
   "execution_count": 161,
   "metadata": {},
   "outputs": [],
   "source": [
    "seq1, seq2, boundaries, mat, structs = binary_coding(\"AIQTSDEH...KV..ATPANW....RP..................GDK.V.VVP.PP.NTQE.MA..EERMKEG\")"
   ]
  },
  {
   "cell_type": "markdown",
   "metadata": {},
   "source": [
    "distance minimale entre 2 clusters hydrophobes = 4"
   ]
  },
  {
   "cell_type": "code",
   "execution_count": 162,
   "metadata": {},
   "outputs": [
    {
     "name": "stdout",
     "output_type": "stream",
     "text": [
      "['-' 'A' '-' '-' '-' '-' '-' '-' '-' '-' 'M']\n",
      "['-' 'I' '-' 'V' '-' '-' 'V' '-' '-' '-' 'K']\n",
      "['-' '-' '-' '-' '-' '-' 'V' '-' '-' '-' 'E']\n",
      "['-' '-' '-' '-' 'W' '-' 'V' '-' 'M' '-' '⯁']\n",
      "['A' '-' '-' '-' '-' '-' '-' '-' '-' 'M' '-']\n",
      "['I' '-' 'V' '-' '-' 'V' '-' '-' '-' 'K' '-']\n",
      "['-' '-' '-' '-' '-' 'V' '-' '-' '-' 'E' '-']\n",
      "['-' '-' '-' 'W' '-' 'V' '-' 'M' '-' '⯁' '-']\n"
     ]
    }
   ],
   "source": [
    "for line in mat:\n",
    "    print(str(line))"
   ]
  },
  {
   "cell_type": "code",
   "execution_count": 143,
   "metadata": {},
   "outputs": [
    {
     "data": {
      "text/plain": [
       "'0100000001000001000001110000000100001000'"
      ]
     },
     "execution_count": 143,
     "metadata": {},
     "output_type": "execute_result"
    }
   ],
   "source": [
    "seq2"
   ]
  },
  {
   "cell_type": "code",
   "execution_count": 163,
   "metadata": {},
   "outputs": [
    {
     "data": {
      "text/plain": [
       "['AI', 'V', 'W', 'VVV', 'M']"
      ]
     },
     "execution_count": 163,
     "metadata": {},
     "output_type": "execute_result"
    }
   ],
   "source": [
    "structs"
   ]
  },
  {
   "cell_type": "code",
   "execution_count": null,
   "metadata": {},
   "outputs": [],
   "source": []
  }
 ],
 "metadata": {
  "kernelspec": {
   "display_name": "Python 3",
   "language": "python",
   "name": "python3"
  },
  "language_info": {
   "codemirror_mode": {
    "name": "ipython",
    "version": 3
   },
   "file_extension": ".py",
   "mimetype": "text/x-python",
   "name": "python",
   "nbconvert_exporter": "python",
   "pygments_lexer": "ipython3",
   "version": "3.8.5"
  }
 },
 "nbformat": 4,
 "nbformat_minor": 4
}
